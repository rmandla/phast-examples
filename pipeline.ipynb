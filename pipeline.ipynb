{
 "cells": [
  {
   "cell_type": "markdown",
   "metadata": {},
   "source": [
    "# Accelerated Evolution of Enhancer Hotspots in Mammalian Ancestors\n",
    "### Holloway et. al.\n",
    "\n",
    "To learn more about the methods implored in the above mentioned paper, I attempted to recreate the figures/findings of this paper"
   ]
  },
  {
   "cell_type": "markdown",
   "metadata": {},
   "source": [
    "## Data Collection\n",
    "\n",
    "The paper uses aligned genomic sequences downloaded from the [UCSC Genome Browser](http://hgdownload.cse.ucsc.edu/goldenpath/hg19/multiz46way/) in the form of MAF files. Each file contains the alignment of 46 different genomes to the hg19 genome, sequestered into different chromosomes. A full detail on the MAF file format can be found [here.](http://genome.ucsc.edu/FAQ/FAQformat.html#format5) Because each MAF file has sequence alignments for 46 different species, I needed to use some method to isolate only sequences which are found in all 17 species analyzed in this paper. \n",
    "\n",
    "After running the `species_compile.sh` and `species_sample.py` scripts, I found that there were no highly conserved sequences in the Y chromosome."
   ]
  },
  {
   "cell_type": "code",
   "execution_count": 16,
   "metadata": {},
   "outputs": [],
   "source": [
    "import sys"
   ]
  },
  {
   "cell_type": "code",
   "execution_count": 23,
   "metadata": {},
   "outputs": [
    {
     "name": "stdout",
     "output_type": "stream",
     "text": [
      "read file\n",
      "Found one!\n"
     ]
    }
   ],
   "source": [
    "genomes = ['mm9','bosTau4','canFam2','loxAfr3','macEug1','monDom5','ornAna1','galGal3','taeGut1','anoCar1','xenTro2','danRer6','tetNig2','fr2','gasAcu1','oryLat2']\n",
    "sequences = []\n",
    "conserved = []\n",
    "file = sys.stdin.readlines()\n",
    "with open(file, 'rt') as input:\n",
    "    for i in input:\n",
    "        sequences.append(i)\n",
    "print('read file')\n",
    "total = ''.join(sequences)\n",
    "indvs = total.split('s hg')[1:]\n",
    "for i in indvs:\n",
    "    t = 0\n",
    "    for s in genomes:\n",
    "        if s in i:\n",
    "            t += 1\n",
    "        else:\n",
    "            break\n",
    "    if t == len(genomes):\n",
    "        print('Found one!')\n",
    "        conserved.append('s hg' + i)\n",
    "        print(''.join(conserved))"
   ]
  },
  {
   "cell_type": "code",
   "execution_count": null,
   "metadata": {},
   "outputs": [],
   "source": []
  }
 ],
 "metadata": {
  "kernelspec": {
   "display_name": "Python 3",
   "language": "python",
   "name": "python3"
  },
  "language_info": {
   "codemirror_mode": {
    "name": "ipython",
    "version": 3
   },
   "file_extension": ".py",
   "mimetype": "text/x-python",
   "name": "python",
   "nbconvert_exporter": "python",
   "pygments_lexer": "ipython3",
   "version": "3.8.0"
  }
 },
 "nbformat": 4,
 "nbformat_minor": 4
}
